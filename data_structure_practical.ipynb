{
  "nbformat": 4,
  "nbformat_minor": 0,
  "metadata": {
    "colab": {
      "provenance": []
    },
    "kernelspec": {
      "name": "python3",
      "display_name": "Python 3"
    },
    "language_info": {
      "name": "python"
    }
  },
  "cells": [
    {
      "cell_type": "markdown",
      "source": [
        "# data structure practical"
      ],
      "metadata": {
        "id": "HimMQCzfgY5o"
      }
    },
    {
      "cell_type": "markdown",
      "source": [
        "1. write a code to create a string with your name and print it."
      ],
      "metadata": {
        "id": "AgbQthbUgmnH"
      }
    },
    {
      "cell_type": "code",
      "source": [
        "a = \"Naincy\"\n",
        "print(a)"
      ],
      "metadata": {
        "colab": {
          "base_uri": "https://localhost:8080/"
        },
        "id": "CyTo3Sjf2lv9",
        "outputId": "f7a8d2a7-d91a-42dc-aefe-201e9f822cc4"
      },
      "execution_count": null,
      "outputs": [
        {
          "output_type": "stream",
          "name": "stdout",
          "text": [
            "Naincy\n"
          ]
        }
      ]
    },
    {
      "cell_type": "markdown",
      "source": [
        "2. write a code to find the length of the string \"Hello world\"."
      ],
      "metadata": {
        "id": "JiWZdR91gwje"
      }
    },
    {
      "cell_type": "code",
      "source": [
        "str = \"Hello world\"\n",
        "print(len(str))"
      ],
      "metadata": {
        "id": "PvhLMAbxg_Oa",
        "colab": {
          "base_uri": "https://localhost:8080/"
        },
        "outputId": "2dfd8bbd-a0db-4490-8437-e92bbbaef545"
      },
      "execution_count": null,
      "outputs": [
        {
          "output_type": "stream",
          "name": "stdout",
          "text": [
            "11\n"
          ]
        }
      ]
    },
    {
      "cell_type": "markdown",
      "source": [
        "3. write a code to slice the first 3 characters from the string \"python programming\"."
      ],
      "metadata": {
        "id": "c4JEJ6YqhAKv"
      }
    },
    {
      "cell_type": "code",
      "source": [
        "str = \"python programming\"\n",
        "sliced_str = str[0:3]\n",
        "print(sliced_str)"
      ],
      "metadata": {
        "id": "b30nizZohODq",
        "colab": {
          "base_uri": "https://localhost:8080/"
        },
        "outputId": "03b79b89-a594-4dc4-f55e-b8724e22c40c"
      },
      "execution_count": null,
      "outputs": [
        {
          "output_type": "stream",
          "name": "stdout",
          "text": [
            "pyt\n"
          ]
        }
      ]
    },
    {
      "cell_type": "markdown",
      "source": [
        "4. write a code to convert the string \"Hello\" to uppercase."
      ],
      "metadata": {
        "id": "nMmLImgghPrO"
      }
    },
    {
      "cell_type": "code",
      "source": [
        "str = \"hello\"\n",
        "uppercase_str = str.upper()\n",
        "print(uppercase_str)"
      ],
      "metadata": {
        "id": "2lm2N0hRg-7g",
        "colab": {
          "base_uri": "https://localhost:8080/"
        },
        "outputId": "c8061fb1-66e9-4647-a48b-46cf94e6a771"
      },
      "execution_count": null,
      "outputs": [
        {
          "output_type": "stream",
          "name": "stdout",
          "text": [
            "HELLO\n"
          ]
        }
      ]
    },
    {
      "cell_type": "markdown",
      "source": [
        "5. write a code to replace the word \"apple\" with \"orange\" in the string \"i like apple\"."
      ],
      "metadata": {
        "id": "F57gKSn_hawW"
      }
    },
    {
      "cell_type": "code",
      "source": [
        "a = \"apple\"\n",
        "b = \"orange\"\n",
        "str = \"i like apple\"\n",
        "new_str = str.replace(a,b)\n",
        "print(new_str)"
      ],
      "metadata": {
        "colab": {
          "base_uri": "https://localhost:8080/"
        },
        "id": "UndaBJ1u38aU",
        "outputId": "e521e4d8-b8ad-4b92-c646-7d1fbcd9fc5d"
      },
      "execution_count": null,
      "outputs": [
        {
          "output_type": "stream",
          "name": "stdout",
          "text": [
            "i like orange\n"
          ]
        }
      ]
    },
    {
      "cell_type": "markdown",
      "source": [
        "6. write a code to create a list with numbers 1 to 5 and print it."
      ],
      "metadata": {
        "id": "wB8Qz6pyhqz0"
      }
    },
    {
      "cell_type": "code",
      "source": [
        "a = [1,2,3,4,5]\n",
        "print(a)\n"
      ],
      "metadata": {
        "id": "c6t3SpPrh1vl",
        "colab": {
          "base_uri": "https://localhost:8080/"
        },
        "outputId": "7c64b425-7c16-4410-f26c-1a53647916ed"
      },
      "execution_count": null,
      "outputs": [
        {
          "output_type": "stream",
          "name": "stdout",
          "text": [
            "[1, 2, 3, 4, 5]\n"
          ]
        }
      ]
    },
    {
      "cell_type": "markdown",
      "source": [
        "7. write a code to append the number 1 to the list[1,2,3,4]."
      ],
      "metadata": {
        "id": "9Q2ko_hHh2qb"
      }
    },
    {
      "cell_type": "code",
      "source": [
        "my_list = [1,2,3,4]\n",
        "my_list.append(1)\n",
        "print(my_list)"
      ],
      "metadata": {
        "id": "gH2s4NXhiEGa",
        "colab": {
          "base_uri": "https://localhost:8080/"
        },
        "outputId": "1fcdc1a1-ce73-4535-f848-7419e31d4da7"
      },
      "execution_count": null,
      "outputs": [
        {
          "output_type": "stream",
          "name": "stdout",
          "text": [
            "[1, 2, 3, 4, 1]\n"
          ]
        }
      ]
    },
    {
      "cell_type": "markdown",
      "source": [
        "8. write a code to remove the number 3 from the list[1,2,3,4,5]."
      ],
      "metadata": {
        "id": "xl_6A6E1iEyC"
      }
    },
    {
      "cell_type": "code",
      "source": [
        "my_list = [1,2,3,4,5]\n",
        "my_list.remove(3)\n",
        "print(my_list)"
      ],
      "metadata": {
        "id": "xwHB6rT1iTpP",
        "colab": {
          "base_uri": "https://localhost:8080/"
        },
        "outputId": "377f8eca-cb4c-4258-b41a-90ab7195be52"
      },
      "execution_count": null,
      "outputs": [
        {
          "output_type": "stream",
          "name": "stdout",
          "text": [
            "[1, 2, 4, 5]\n"
          ]
        }
      ]
    },
    {
      "cell_type": "markdown",
      "source": [
        "9. write a code to access the second element in the list['a','b','c','d']."
      ],
      "metadata": {
        "id": "_ZpHqxKxiUW_"
      }
    },
    {
      "cell_type": "code",
      "source": [
        "my_list = ['a','b','c','d']\n",
        "second_element = my_list[1]\n",
        "print(second_element)"
      ],
      "metadata": {
        "id": "RMev5nw_ilqH",
        "colab": {
          "base_uri": "https://localhost:8080/"
        },
        "outputId": "204f8337-c1d0-4b0d-cd1e-3b25e26270e5"
      },
      "execution_count": null,
      "outputs": [
        {
          "output_type": "stream",
          "name": "stdout",
          "text": [
            "b\n"
          ]
        }
      ]
    },
    {
      "cell_type": "markdown",
      "source": [
        "10. write a code to reverse the list[10, 20, 30, 40,50]."
      ],
      "metadata": {
        "id": "ELEWe1Zqimoz"
      }
    },
    {
      "cell_type": "code",
      "source": [
        "my_list = [10,20,30,40,50]\n",
        "my_list.reverse()\n",
        "print(my_list)"
      ],
      "metadata": {
        "id": "jL0oPe28i73p",
        "colab": {
          "base_uri": "https://localhost:8080/"
        },
        "outputId": "3534b15b-b183-4f03-c12c-ad7debb99a8e"
      },
      "execution_count": null,
      "outputs": [
        {
          "output_type": "stream",
          "name": "stdout",
          "text": [
            "[50, 40, 30, 20, 10]\n"
          ]
        }
      ]
    },
    {
      "cell_type": "markdown",
      "source": [
        "11. write a code to create a tuple with the elements 10,20,30 and print it."
      ],
      "metadata": {
        "id": "6zOW0kDPi8tB"
      }
    },
    {
      "cell_type": "code",
      "source": [
        "my_tuple = (10,20,30)\n",
        "print(my_tuple)"
      ],
      "metadata": {
        "id": "Bi5wgRwMjSGY",
        "colab": {
          "base_uri": "https://localhost:8080/"
        },
        "outputId": "32145bf2-06e5-47dd-de23-00c701a2a329"
      },
      "execution_count": null,
      "outputs": [
        {
          "output_type": "stream",
          "name": "stdout",
          "text": [
            "(10, 20, 30)\n"
          ]
        }
      ]
    },
    {
      "cell_type": "markdown",
      "source": [
        "12. write a code to acess the first elements of the tuple ('apple', 'banana','cherry')."
      ],
      "metadata": {
        "id": "kasgjBX_jS9D"
      }
    },
    {
      "cell_type": "code",
      "source": [
        "my_tuple = ('apple','banana','cherry')\n",
        "first_element = my_tuple[0]\n",
        "print(first_element)"
      ],
      "metadata": {
        "id": "_9AJOuOFjq3l",
        "colab": {
          "base_uri": "https://localhost:8080/"
        },
        "outputId": "dde65a04-e360-4e71-c2f4-05c3c4525390"
      },
      "execution_count": null,
      "outputs": [
        {
          "output_type": "stream",
          "name": "stdout",
          "text": [
            "apple\n"
          ]
        }
      ]
    },
    {
      "cell_type": "markdown",
      "source": [
        "13. write a code to count how many times the number2 appears in the tuple(1,2,3,2,4,2)."
      ],
      "metadata": {
        "id": "2ebBftaFjujw"
      }
    },
    {
      "cell_type": "code",
      "source": [
        "my_tuple = (1,2,3,2,4,2)\n",
        "count = my_tuple.count(2)\n",
        "print(count)"
      ],
      "metadata": {
        "id": "Yo9UEH4AkJpF",
        "colab": {
          "base_uri": "https://localhost:8080/"
        },
        "outputId": "481d0ab0-2f69-4920-e6e3-f09cc7e75da6"
      },
      "execution_count": null,
      "outputs": [
        {
          "output_type": "stream",
          "name": "stdout",
          "text": [
            "3\n"
          ]
        }
      ]
    },
    {
      "cell_type": "markdown",
      "source": [
        "14.write a code to find the index of the element \"cat\" in the tuple ('dog','cat','rabbit')."
      ],
      "metadata": {
        "id": "yj-diJWqkKdz"
      }
    },
    {
      "cell_type": "code",
      "source": [
        "my_tuple = ('dog','cat','rabbit')\n",
        "index = my_tuple.index('cat')\n",
        "print(index)"
      ],
      "metadata": {
        "id": "YfxvUQKdkjDQ",
        "colab": {
          "base_uri": "https://localhost:8080/"
        },
        "outputId": "96796736-bdea-4fa6-d22d-cb0e9795a837"
      },
      "execution_count": null,
      "outputs": [
        {
          "output_type": "stream",
          "name": "stdout",
          "text": [
            "1\n"
          ]
        }
      ]
    },
    {
      "cell_type": "markdown",
      "source": [
        "15. write a code to check if the element \"banana\" is in the tuple ('apple','orange','banana')."
      ],
      "metadata": {
        "id": "Y_ZareCckkQl"
      }
    },
    {
      "cell_type": "code",
      "source": [
        "my_tuple = ('apple','orange','banana')\n",
        "if 'banana' in my_tuple:\n",
        "    print(\"banana is in the tuple\")\n",
        "else:\n",
        "    print(\"banana is not in the tuple\")"
      ],
      "metadata": {
        "id": "ObIyIPuFlMtG",
        "colab": {
          "base_uri": "https://localhost:8080/"
        },
        "outputId": "4ba324bc-9069-4a50-b9ea-c29d20a926f2"
      },
      "execution_count": null,
      "outputs": [
        {
          "output_type": "stream",
          "name": "stdout",
          "text": [
            "banana is in the tuple\n"
          ]
        }
      ]
    },
    {
      "cell_type": "markdown",
      "source": [
        "16. write a code to create a set with the elements 1,2,3,4,5 and print it."
      ],
      "metadata": {
        "id": "m5ST-zqClNq4"
      }
    },
    {
      "cell_type": "code",
      "source": [
        "my_set = {1,2,3,4,5}\n",
        "print(my_set)"
      ],
      "metadata": {
        "id": "PZFgDgxwlw1c",
        "colab": {
          "base_uri": "https://localhost:8080/"
        },
        "outputId": "2ffafbb0-86ad-4d2d-8f34-b93f9fd3dc49"
      },
      "execution_count": null,
      "outputs": [
        {
          "output_type": "stream",
          "name": "stdout",
          "text": [
            "{1, 2, 3, 4, 5}\n"
          ]
        }
      ]
    },
    {
      "cell_type": "markdown",
      "source": [
        "17. write a code to add the elements 6 to the set{1,2,3,4}."
      ],
      "metadata": {
        "id": "abhhsgVDlx9s"
      }
    },
    {
      "cell_type": "code",
      "source": [
        "my_set = {1,2,3,4}\n",
        "my_set.add(6)\n",
        "print(my_set)"
      ],
      "metadata": {
        "colab": {
          "base_uri": "https://localhost:8080/"
        },
        "id": "0e4mVWP-zvu6",
        "outputId": "46cbc3fd-715e-47be-88c3-66d80984dde8"
      },
      "execution_count": null,
      "outputs": [
        {
          "output_type": "stream",
          "name": "stdout",
          "text": [
            "{1, 2, 3, 4, 6}\n"
          ]
        }
      ]
    },
    {
      "cell_type": "markdown",
      "source": [
        "  18. write a code to create a tuple with the elements 10, 20,30 and print it."
      ],
      "metadata": {
        "id": "q6nDak_JzwlD"
      }
    },
    {
      "cell_type": "code",
      "source": [
        "my_tuple = (10,20,30)\n",
        "print(my_tuple)"
      ],
      "metadata": {
        "colab": {
          "base_uri": "https://localhost:8080/"
        },
        "id": "Yl5ynSqL0GUu",
        "outputId": "f684ded0-62f3-45a3-9a9d-1672f393189e"
      },
      "execution_count": null,
      "outputs": [
        {
          "output_type": "stream",
          "name": "stdout",
          "text": [
            "(10, 20, 30)\n"
          ]
        }
      ]
    },
    {
      "cell_type": "markdown",
      "source": [
        "19. write a code to access the first element of the tuple('apple','banana','cherry')."
      ],
      "metadata": {
        "id": "uh9GcUYz0HDU"
      }
    },
    {
      "cell_type": "code",
      "source": [
        "my_tuple = ('apple','banana','cherry')\n",
        "first_element = my_tuple[0]\n",
        "print(first_element)"
      ],
      "metadata": {
        "id": "7UfIZ0JyjtRc",
        "colab": {
          "base_uri": "https://localhost:8080/"
        },
        "outputId": "ee7fea91-75bf-4ca4-c013-620a5ff0af85"
      },
      "execution_count": null,
      "outputs": [
        {
          "output_type": "stream",
          "name": "stdout",
          "text": [
            "apple\n"
          ]
        }
      ]
    },
    {
      "cell_type": "markdown",
      "source": [
        "20. write a code to count how many times the number 2 appears in the tupple(1,2,3,2,4,2)."
      ],
      "metadata": {
        "id": "SYzqwzmx0xAh"
      }
    },
    {
      "cell_type": "code",
      "source": [
        "my_tuple = (1,2,3,2,4,2)\n",
        "count = my_tuple.count(2)\n",
        "print(count)"
      ],
      "metadata": {
        "id": "6PG5pQGwjc6z",
        "colab": {
          "base_uri": "https://localhost:8080/"
        },
        "outputId": "defb4326-907b-450a-f9ba-010a2564d52d"
      },
      "execution_count": null,
      "outputs": [
        {
          "output_type": "stream",
          "name": "stdout",
          "text": [
            "3\n"
          ]
        }
      ]
    },
    {
      "cell_type": "markdown",
      "source": [
        "21. write a code to find the index of the element \"cat\" in the tuple('dog','cat','rabbit')."
      ],
      "metadata": {
        "id": "LDlGCIm81KAW"
      }
    },
    {
      "cell_type": "code",
      "source": [
        "my_tuple = ('dog','cat','rabbit')\n",
        "index = my_tuple.index('cat')\n",
        "print(index)"
      ],
      "metadata": {
        "colab": {
          "base_uri": "https://localhost:8080/"
        },
        "id": "H1Q9UdoF2IPS",
        "outputId": "1adf9f5b-5899-4a21-a9cf-ed05005ab7ea"
      },
      "execution_count": null,
      "outputs": [
        {
          "output_type": "stream",
          "name": "stdout",
          "text": [
            "1\n"
          ]
        }
      ]
    },
    {
      "cell_type": "markdown",
      "source": [
        "22. write a code to check if the element \"banana\" is in the tuple ('apple','orange','banana')."
      ],
      "metadata": {
        "id": "wN1Cqf3n1qwo"
      }
    },
    {
      "cell_type": "code",
      "source": [
        "my_tuple = ('apple','orange','banana')\n",
        "if 'banana' in my_tuple:\n",
        "    print(\"banana is in the tuple\")\n",
        "else:\n",
        "    print(\"banana is not in the tuple\")"
      ],
      "metadata": {
        "colab": {
          "base_uri": "https://localhost:8080/"
        },
        "id": "xuCkQUQh2GpR",
        "outputId": "3068fdf7-50d9-4030-acab-b82e8383613b"
      },
      "execution_count": null,
      "outputs": [
        {
          "output_type": "stream",
          "name": "stdout",
          "text": [
            "banana is in the tuple\n"
          ]
        }
      ]
    },
    {
      "cell_type": "markdown",
      "source": [
        "23. write a code to create a set with the elements 1,2,3,4,5 and print it."
      ],
      "metadata": {
        "id": "HfZTRu0a2LDZ"
      }
    },
    {
      "cell_type": "code",
      "source": [
        "my_set = {1,2,3,4,5}\n",
        "print(my_set)"
      ],
      "metadata": {
        "colab": {
          "base_uri": "https://localhost:8080/"
        },
        "id": "i-bclbcW2VBK",
        "outputId": "6620506e-9c90-4867-f919-f79ca982111f"
      },
      "execution_count": null,
      "outputs": [
        {
          "output_type": "stream",
          "name": "stdout",
          "text": [
            "{1, 2, 3, 4, 5}\n"
          ]
        }
      ]
    },
    {
      "cell_type": "markdown",
      "source": [
        "24. write a code to add the elements 6 to the set{1,2,3,4}."
      ],
      "metadata": {
        "id": "FgmU-KsU2Vv8"
      }
    },
    {
      "cell_type": "code",
      "source": [
        "my_set = {1,2,3,4}\n",
        "my_set.add(6)\n",
        "print(my_set)"
      ],
      "metadata": {
        "colab": {
          "base_uri": "https://localhost:8080/"
        },
        "id": "VEiFfNhY8YLj",
        "outputId": "7b621b06-95fc-433f-dd1b-31e6d93a2fa2"
      },
      "execution_count": null,
      "outputs": [
        {
          "output_type": "stream",
          "name": "stdout",
          "text": [
            "{1, 2, 3, 4, 6}\n"
          ]
        }
      ]
    },
    {
      "cell_type": "markdown",
      "source": [],
      "metadata": {
        "id": "NV3SVOKygXqf"
      }
    }
  ]
}